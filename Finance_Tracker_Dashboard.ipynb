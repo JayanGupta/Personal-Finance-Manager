{
  "nbformat": 4,
  "nbformat_minor": 0,
  "metadata": {
    "colab": {
      "provenance": []
    },
    "kernelspec": {
      "name": "ir",
      "display_name": "R"
    },
    "language_info": {
      "name": "R"
    }
  },
  "cells": [
    {
      "cell_type": "code",
      "source": [
        "install.packages(\"rmarkdown\")"
      ],
      "metadata": {
        "id": "QkzOPrNXPiBW",
        "colab": {
          "base_uri": "https://localhost:8080/"
        },
        "outputId": "383fda2e-fc28-44e9-d657-9a891023fa64"
      },
      "execution_count": null,
      "outputs": [
        {
          "output_type": "stream",
          "name": "stderr",
          "text": [
            "Installing package into ‘/usr/local/lib/R/site-library’\n",
            "(as ‘lib’ is unspecified)\n",
            "\n"
          ]
        }
      ]
    },
    {
      "cell_type": "code",
      "source": [
        "system(\"apt-get install pandoc\")"
      ],
      "metadata": {
        "id": "jdP0o5dO_qoh"
      },
      "execution_count": null,
      "outputs": []
    },
    {
      "cell_type": "code",
      "source": [
        "install.packages(c('flexdashboard', 'tidyverse', 'highcharter', 'gt', 'DT', 'htmltools', 'plotly', 'ggplot2', 'plyr', 'rpivotTable', 'readxl'))"
      ],
      "metadata": {
        "colab": {
          "base_uri": "https://localhost:8080/"
        },
        "id": "LUJslsRWB3Zn",
        "outputId": "8a86fca6-b9d1-4ebd-ce31-3df8c44d84ed"
      },
      "execution_count": null,
      "outputs": [
        {
          "output_type": "stream",
          "name": "stderr",
          "text": [
            "Installing packages into ‘/usr/local/lib/R/site-library’\n",
            "(as ‘lib’ is unspecified)\n",
            "\n",
            "also installing the dependencies ‘XML’, ‘TTR’, ‘V8’, ‘litedown’, ‘reactR’, ‘rlist’, ‘assertthat’, ‘zoo’, ‘xts’, ‘quantmod’, ‘igraph’, ‘rjson’, ‘bigD’, ‘bitops’, ‘juicyjuice’, ‘markdown’, ‘reactable’, ‘crosstalk’, ‘lazyeval’\n",
            "\n",
            "\n"
          ]
        }
      ]
    },
    {
      "cell_type": "code",
      "source": [
        "install.packages(\"lubridate\")\n",
        "library(lubridate)\n"
      ],
      "metadata": {
        "colab": {
          "base_uri": "https://localhost:8080/"
        },
        "id": "JQ_L_VrJJinY",
        "outputId": "260699c9-6a49-4570-c389-f0d0bb9b978f"
      },
      "execution_count": null,
      "outputs": [
        {
          "output_type": "stream",
          "name": "stderr",
          "text": [
            "Installing package into ‘/usr/local/lib/R/site-library’\n",
            "(as ‘lib’ is unspecified)\n",
            "\n",
            "\n",
            "Attaching package: ‘lubridate’\n",
            "\n",
            "\n",
            "The following objects are masked from ‘package:base’:\n",
            "\n",
            "    date, intersect, setdiff, union\n",
            "\n",
            "\n"
          ]
        }
      ]
    },
    {
      "cell_type": "code",
      "source": [
        "rmarkdown::render('/content/dashboard.Rmd', output_file = 'Dashboard.html')"
      ],
      "metadata": {
        "colab": {
          "base_uri": "https://localhost:8080/",
          "height": 1000
        },
        "id": "FzTg53fM-9VY",
        "outputId": "f5ffb33f-0d35-4e36-9e09-980a1aab8da6"
      },
      "execution_count": null,
      "outputs": [
        {
          "output_type": "stream",
          "name": "stderr",
          "text": [
            "\n",
            "\n",
            "processing file: dashboard.Rmd\n",
            "\n"
          ]
        },
        {
          "output_type": "stream",
          "name": "stdout",
          "text": [
            "1/28                   \n",
            "2/28 [setup]           \n",
            "3/28                   \n",
            "4/28 [unnamed-chunk-1] \n"
          ]
        },
        {
          "output_type": "error",
          "ename": "ERROR",
          "evalue": "\u001b[1m\u001b[33mError\u001b[39m:\u001b[22m\n\u001b[33m!\u001b[39m '/content/personal-finance-dataxlsx---Sheet1.csv' does not exist.\n",
          "traceback": [
            "\u001b[1m\u001b[33mError\u001b[39m:\u001b[22m\n\u001b[33m!\u001b[39m '/content/personal-finance-dataxlsx---Sheet1.csv' does not exist.\nTraceback:\n",
            "1. knitr::knit(knit_input, knit_output, envir = envir, quiet = quiet)",
            "2. process_file(text, output)",
            "3. xfun:::handle_error(withCallingHandlers(if (tangle) process_tangle(group) else process_group(group), \n .     error = function(e) {\n .         if (progress && is.function(pb$interrupt)) \n .             pb$interrupt()\n .         if (xfun::pkg_available(\"rlang\", \"1.0.0\")) {\n .             if (is_R_CMD_build() || is_R_CMD_check()) {\n .                 cnd = tryCatch(rlang::entrace(e), error = identity)\n .                 error <<- format(cnd)\n .             }\n .             else {\n .                 rlang::entrace(e)\n .             }\n .         }\n .     }), function(loc) {\n .     setwd(wd)\n .     write_utf8(res, output %n% stdout())\n .     paste0(\"\\nQuitting from \", loc, if (!is.null(error)) \n .         paste0(\"\\n\", rule(), error, \"\\n\", rule()))\n . }, if (labels[i] != \"\") sprintf(\" [%s]\", labels[i]), get_loc)",
            "4. withCallingHandlers(if (tangle) process_tangle(group) else process_group(group), \n .     error = function(e) {\n .         if (progress && is.function(pb$interrupt)) \n .             pb$interrupt()\n .         if (xfun::pkg_available(\"rlang\", \"1.0.0\")) {\n .             if (is_R_CMD_build() || is_R_CMD_check()) {\n .                 cnd = tryCatch(rlang::entrace(e), error = identity)\n .                 error <<- format(cnd)\n .             }\n .             else {\n .                 rlang::entrace(e)\n .             }\n .         }\n .     })",
            "5. process_group(group)",
            "6. call_block(x)",
            "7. block_exec(params)",
            "8. eng_r(options)",
            "9. in_input_dir(evaluate(code, envir = env, new_device = FALSE, \n .     keep_warning = if (is.numeric(options$warning)) TRUE else options$warning, \n .     keep_message = if (is.numeric(options$message)) TRUE else options$message, \n .     stop_on_error = if (is.numeric(options$error)) options$error else {\n .         if (options$error && options$include) \n .             0L\n .         else 2L\n .     }, output_handler = knit_handlers(options$render, options)))",
            "10. in_dir(input_dir(), expr)",
            "11. evaluate(code, envir = env, new_device = FALSE, keep_warning = if (is.numeric(options$warning)) TRUE else options$warning, \n  .     keep_message = if (is.numeric(options$message)) TRUE else options$message, \n  .     stop_on_error = if (is.numeric(options$error)) options$error else {\n  .         if (options$error && options$include) \n  .             0L\n  .         else 2L\n  .     }, output_handler = knit_handlers(options$render, options))",
            "12. evaluate::evaluate(...)",
            "13. withRestarts(with_handlers({\n  .     for (expr in tle$exprs) {\n  .         ev <- withVisible(eval(expr, envir))\n  .         watcher$capture_plot_and_output()\n  .         watcher$print_value(ev$value, ev$visible, envir)\n  .     }\n  .     TRUE\n  . }, handlers), eval_continue = function() TRUE, eval_stop = function() FALSE)",
            "14. withRestartList(expr, restarts)",
            "15. withOneRestart(withRestartList(expr, restarts[-nr]), restarts[[nr]])",
            "16. doWithOneRestart(return(expr), restart)",
            "17. withRestartList(expr, restarts[-nr])",
            "18. withOneRestart(expr, restarts[[1L]])",
            "19. doWithOneRestart(return(expr), restart)",
            "20. with_handlers({\n  .     for (expr in tle$exprs) {\n  .         ev <- withVisible(eval(expr, envir))\n  .         watcher$capture_plot_and_output()\n  .         watcher$print_value(ev$value, ev$visible, envir)\n  .     }\n  .     TRUE\n  . }, handlers)",
            "21. eval(call)",
            "22. eval(call)",
            "23. withCallingHandlers(code, message = function (cnd) \n  . {\n  .     watcher$capture_plot_and_output()\n  .     if (on_message$capture) {\n  .         watcher$push(cnd)\n  .     }\n  .     if (on_message$silence) {\n  .         invokeRestart(\"muffleMessage\")\n  .     }\n  . }, warning = function (cnd) \n  . {\n  .     if (getOption(\"warn\") >= 2 || getOption(\"warn\") < 0) {\n  .         return()\n  .     }\n  .     watcher$capture_plot_and_output()\n  .     if (on_warning$capture) {\n  .         cnd <- sanitize_call(cnd)\n  .         watcher$push(cnd)\n  .     }\n  .     if (on_warning$silence) {\n  .         invokeRestart(\"muffleWarning\")\n  .     }\n  . }, error = function (cnd) \n  . {\n  .     watcher$capture_plot_and_output()\n  .     cnd <- sanitize_call(cnd)\n  .     watcher$push(cnd)\n  .     switch(on_error, continue = invokeRestart(\"eval_continue\"), \n  .         stop = invokeRestart(\"eval_stop\"), error = NULL)\n  . })",
            "24. withVisible(eval(expr, envir))",
            "25. eval(expr, envir)",
            "26. eval(expr, envir)",
            "27. read_csv(\"/content/personal-finance-dataxlsx---Sheet1.csv\")",
            "28. vroom::vroom(file, delim = \",\", col_names = col_names, col_types = col_types, \n  .     col_select = {\n  .         {\n  .             col_select\n  .         }\n  .     }, id = id, .name_repair = name_repair, skip = skip, n_max = n_max, \n  .     na = na, quote = quote, comment = comment, skip_empty_rows = skip_empty_rows, \n  .     trim_ws = trim_ws, escape_double = TRUE, escape_backslash = FALSE, \n  .     locale = locale, guess_max = guess_max, show_col_types = show_col_types, \n  .     progress = progress, altrep = lazy, num_threads = num_threads)",
            "29. vroom_(file, delim = delim %||% col_types$delim, col_names = col_names, \n  .     col_types = col_types, id = id, skip = skip, col_select = col_select, \n  .     name_repair = .name_repair, na = na, quote = quote, trim_ws = trim_ws, \n  .     escape_double = escape_double, escape_backslash = escape_backslash, \n  .     comment = comment, skip_empty_rows = skip_empty_rows, locale = locale, \n  .     guess_max = guess_max, n_max = n_max, altrep = vroom_altrep(altrep), \n  .     num_threads = num_threads, progress = progress)",
            "30. (function (path, write = FALSE) \n  . {\n  .     if (is.raw(path)) {\n  .         return(rawConnection(path, \"rb\"))\n  .     }\n  .     if (!is.character(path)) {\n  .         return(path)\n  .     }\n  .     if (is_url(path)) {\n  .         if (requireNamespace(\"curl\", quietly = TRUE)) {\n  .             con <- curl::curl(path)\n  .         }\n  .         else {\n  .             inform(\"`curl` package not installed, falling back to using `url()`\")\n  .             con <- url(path)\n  .         }\n  .         ext <- tolower(tools::file_ext(path))\n  .         return(switch(ext, zip = , bz2 = , xz = {\n  .             close(con)\n  .             stop(\"Reading from remote `\", ext, \"` compressed files is not supported,\\n\", \n  .                 \"  download the files locally first.\", call. = FALSE)\n  .         }, gz = gzcon(con), con))\n  .     }\n  .     path <- enc2utf8(path)\n  .     p <- split_path_ext(basename_utf8(path))\n  .     if (write) {\n  .         path <- normalizePath_utf8(path, mustWork = FALSE)\n  .     }\n  .     else {\n  .         path <- check_path(path)\n  .     }\n  .     if (is_installed(\"archive\")) {\n  .         formats <- archive_formats(p$extension)\n  .         extension <- p$extension\n  .         while (is.null(formats) && nzchar(extension)) {\n  .             extension <- split_path_ext(extension)$extension\n  .             formats <- archive_formats(extension)\n  .         }\n  .         if (!is.null(formats)) {\n  .             p$extension <- extension\n  .             if (write) {\n  .                 if (is.null(formats[[1]])) {\n  .                   return(archive::file_write(path, filter = formats[[2]]))\n  .                 }\n  .                 return(archive::archive_write(path, p$path, format = formats[[1]], \n  .                   filter = formats[[2]]))\n  .             }\n  .             if (is.null(formats[[1]])) {\n  .                 return(archive::file_read(path, filter = formats[[2]]))\n  .             }\n  .             return(archive::archive_read(path, format = formats[[1]], \n  .                 filter = formats[[2]]))\n  .         }\n  .     }\n  .     if (!write) {\n  .         compression <- detect_compression(path)\n  .     }\n  .     else {\n  .         compression <- NA\n  .     }\n  .     if (is.na(compression)) {\n  .         compression <- tools::file_ext(path)\n  .     }\n  .     if (write && compression == \"zip\") {\n  .         stop(\"Can only read from, not write to, .zip\", call. = FALSE)\n  .     }\n  .     switch(compression, gz = gzfile(path, \"\"), bz2 = bzfile(path, \n  .         \"\"), xz = xzfile(path, \"\"), zip = zipfile(path, \"\"), \n  .         if (!has_trailing_newline(path)) {\n  .             file(path)\n  .         } else {\n  .             path\n  .         })\n  . })(\"/content/personal-finance-dataxlsx---Sheet1.csv\")",
            "31. check_path(path)",
            "32. stop(\"'\", path, \"' does not exist\", if (!is_absolute_path(path)) {\n  .     paste0(\" in current working directory ('\", getwd(), \"')\")\n  . }, \".\", call. = FALSE)",
            "33. .handleSimpleError(function (e) \n  . {\n  .     if (progress && is.function(pb$interrupt)) \n  .         pb$interrupt()\n  .     if (xfun::pkg_available(\"rlang\", \"1.0.0\")) {\n  .         if (is_R_CMD_build() || is_R_CMD_check()) {\n  .             cnd = tryCatch(rlang::entrace(e), error = identity)\n  .             error <<- format(cnd)\n  .         }\n  .         else {\n  .             rlang::entrace(e)\n  .         }\n  .     }\n  . }, \"'/content/personal-finance-dataxlsx---Sheet1.csv' does not exist.\", \n  .     base::quote(NULL))",
            "34. h(simpleError(msg, call))",
            "35. rlang::entrace(e)",
            "36. cnd_signal(entraced)",
            "37. signal_abort(cnd)",
            "38. signalCondition(cnd)"
          ]
        },
        {
          "output_type": "stream",
          "name": "stdout",
          "text": [
            "5/28                   \n",
            "6/28 [unnamed-chunk-2] \n"
          ]
        },
        {
          "output_type": "error",
          "ename": "ERROR",
          "evalue": "\u001b[1m\u001b[33mError\u001b[39m in `UseMethod()`:\u001b[22m\n\u001b[33m!\u001b[39m no applicable method for 'select' applied to an object of class \"function\"\n",
          "traceback": [
            "\u001b[1m\u001b[33mError\u001b[39m in `UseMethod()`:\u001b[22m\n\u001b[33m!\u001b[39m no applicable method for 'select' applied to an object of class \"function\"\nTraceback:\n",
            "1. knitr::knit(knit_input, knit_output, envir = envir, quiet = quiet)",
            "2. process_file(text, output)",
            "3. xfun:::handle_error(withCallingHandlers(if (tangle) process_tangle(group) else process_group(group), \n .     error = function(e) {\n .         if (progress && is.function(pb$interrupt)) \n .             pb$interrupt()\n .         if (xfun::pkg_available(\"rlang\", \"1.0.0\")) {\n .             if (is_R_CMD_build() || is_R_CMD_check()) {\n .                 cnd = tryCatch(rlang::entrace(e), error = identity)\n .                 error <<- format(cnd)\n .             }\n .             else {\n .                 rlang::entrace(e)\n .             }\n .         }\n .     }), function(loc) {\n .     setwd(wd)\n .     write_utf8(res, output %n% stdout())\n .     paste0(\"\\nQuitting from \", loc, if (!is.null(error)) \n .         paste0(\"\\n\", rule(), error, \"\\n\", rule()))\n . }, if (labels[i] != \"\") sprintf(\" [%s]\", labels[i]), get_loc)",
            "4. withCallingHandlers(if (tangle) process_tangle(group) else process_group(group), \n .     error = function(e) {\n .         if (progress && is.function(pb$interrupt)) \n .             pb$interrupt()\n .         if (xfun::pkg_available(\"rlang\", \"1.0.0\")) {\n .             if (is_R_CMD_build() || is_R_CMD_check()) {\n .                 cnd = tryCatch(rlang::entrace(e), error = identity)\n .                 error <<- format(cnd)\n .             }\n .             else {\n .                 rlang::entrace(e)\n .             }\n .         }\n .     })",
            "5. process_group(group)",
            "6. call_block(x)",
            "7. block_exec(params)",
            "8. eng_r(options)",
            "9. in_input_dir(evaluate(code, envir = env, new_device = FALSE, \n .     keep_warning = if (is.numeric(options$warning)) TRUE else options$warning, \n .     keep_message = if (is.numeric(options$message)) TRUE else options$message, \n .     stop_on_error = if (is.numeric(options$error)) options$error else {\n .         if (options$error && options$include) \n .             0L\n .         else 2L\n .     }, output_handler = knit_handlers(options$render, options)))",
            "10. in_dir(input_dir(), expr)",
            "11. evaluate(code, envir = env, new_device = FALSE, keep_warning = if (is.numeric(options$warning)) TRUE else options$warning, \n  .     keep_message = if (is.numeric(options$message)) TRUE else options$message, \n  .     stop_on_error = if (is.numeric(options$error)) options$error else {\n  .         if (options$error && options$include) \n  .             0L\n  .         else 2L\n  .     }, output_handler = knit_handlers(options$render, options))",
            "12. evaluate::evaluate(...)",
            "13. withRestarts(with_handlers({\n  .     for (expr in tle$exprs) {\n  .         ev <- withVisible(eval(expr, envir))\n  .         watcher$capture_plot_and_output()\n  .         watcher$print_value(ev$value, ev$visible, envir)\n  .     }\n  .     TRUE\n  . }, handlers), eval_continue = function() TRUE, eval_stop = function() FALSE)",
            "14. withRestartList(expr, restarts)",
            "15. withOneRestart(withRestartList(expr, restarts[-nr]), restarts[[nr]])",
            "16. doWithOneRestart(return(expr), restart)",
            "17. withRestartList(expr, restarts[-nr])",
            "18. withOneRestart(expr, restarts[[1L]])",
            "19. doWithOneRestart(return(expr), restart)",
            "20. with_handlers({\n  .     for (expr in tle$exprs) {\n  .         ev <- withVisible(eval(expr, envir))\n  .         watcher$capture_plot_and_output()\n  .         watcher$print_value(ev$value, ev$visible, envir)\n  .     }\n  .     TRUE\n  . }, handlers)",
            "21. eval(call)",
            "22. eval(call)",
            "23. withCallingHandlers(code, message = function (cnd) \n  . {\n  .     watcher$capture_plot_and_output()\n  .     if (on_message$capture) {\n  .         watcher$push(cnd)\n  .     }\n  .     if (on_message$silence) {\n  .         invokeRestart(\"muffleMessage\")\n  .     }\n  . }, warning = function (cnd) \n  . {\n  .     if (getOption(\"warn\") >= 2 || getOption(\"warn\") < 0) {\n  .         return()\n  .     }\n  .     watcher$capture_plot_and_output()\n  .     if (on_warning$capture) {\n  .         cnd <- sanitize_call(cnd)\n  .         watcher$push(cnd)\n  .     }\n  .     if (on_warning$silence) {\n  .         invokeRestart(\"muffleWarning\")\n  .     }\n  . }, error = function (cnd) \n  . {\n  .     watcher$capture_plot_and_output()\n  .     cnd <- sanitize_call(cnd)\n  .     watcher$push(cnd)\n  .     switch(on_error, continue = invokeRestart(\"eval_continue\"), \n  .         stop = invokeRestart(\"eval_stop\"), error = NULL)\n  . })",
            "24. withVisible(eval(expr, envir))",
            "25. eval(expr, envir)",
            "26. eval(expr, envir)",
            "27. df %>% select(Category, `Debit/Credit`) %>% filter(tolower(Category) == \n  .     \"salary\")",
            "28. filter(., tolower(Category) == \"salary\")",
            "29. select(., Category, `Debit/Credit`)",
            "30. .handleSimpleError(function (e) \n  . {\n  .     if (progress && is.function(pb$interrupt)) \n  .         pb$interrupt()\n  .     if (xfun::pkg_available(\"rlang\", \"1.0.0\")) {\n  .         if (is_R_CMD_build() || is_R_CMD_check()) {\n  .             cnd = tryCatch(rlang::entrace(e), error = identity)\n  .             error <<- format(cnd)\n  .         }\n  .         else {\n  .             rlang::entrace(e)\n  .         }\n  .     }\n  . }, \"no applicable method for 'select' applied to an object of class \\\"function\\\"\", \n  .     base::quote(UseMethod(\"select\")))",
            "31. h(simpleError(msg, call))",
            "32. rlang::entrace(e)",
            "33. cnd_signal(entraced)",
            "34. signal_abort(cnd)",
            "35. signalCondition(cnd)"
          ]
        },
        {
          "output_type": "stream",
          "name": "stdout",
          "text": [
            "7/28                   \n",
            "8/28 [unnamed-chunk-3] \n"
          ]
        },
        {
          "output_type": "error",
          "ename": "ERROR",
          "evalue": "\u001b[1m\u001b[33mError\u001b[39m in `UseMethod()`:\u001b[22m\n\u001b[33m!\u001b[39m no applicable method for 'select' applied to an object of class \"function\"\n",
          "traceback": [
            "\u001b[1m\u001b[33mError\u001b[39m in `UseMethod()`:\u001b[22m\n\u001b[33m!\u001b[39m no applicable method for 'select' applied to an object of class \"function\"\nTraceback:\n",
            "1. knitr::knit(knit_input, knit_output, envir = envir, quiet = quiet)",
            "2. process_file(text, output)",
            "3. xfun:::handle_error(withCallingHandlers(if (tangle) process_tangle(group) else process_group(group), \n .     error = function(e) {\n .         if (progress && is.function(pb$interrupt)) \n .             pb$interrupt()\n .         if (xfun::pkg_available(\"rlang\", \"1.0.0\")) {\n .             if (is_R_CMD_build() || is_R_CMD_check()) {\n .                 cnd = tryCatch(rlang::entrace(e), error = identity)\n .                 error <<- format(cnd)\n .             }\n .             else {\n .                 rlang::entrace(e)\n .             }\n .         }\n .     }), function(loc) {\n .     setwd(wd)\n .     write_utf8(res, output %n% stdout())\n .     paste0(\"\\nQuitting from \", loc, if (!is.null(error)) \n .         paste0(\"\\n\", rule(), error, \"\\n\", rule()))\n . }, if (labels[i] != \"\") sprintf(\" [%s]\", labels[i]), get_loc)",
            "4. withCallingHandlers(if (tangle) process_tangle(group) else process_group(group), \n .     error = function(e) {\n .         if (progress && is.function(pb$interrupt)) \n .             pb$interrupt()\n .         if (xfun::pkg_available(\"rlang\", \"1.0.0\")) {\n .             if (is_R_CMD_build() || is_R_CMD_check()) {\n .                 cnd = tryCatch(rlang::entrace(e), error = identity)\n .                 error <<- format(cnd)\n .             }\n .             else {\n .                 rlang::entrace(e)\n .             }\n .         }\n .     })",
            "5. process_group(group)",
            "6. call_block(x)",
            "7. block_exec(params)",
            "8. eng_r(options)",
            "9. in_input_dir(evaluate(code, envir = env, new_device = FALSE, \n .     keep_warning = if (is.numeric(options$warning)) TRUE else options$warning, \n .     keep_message = if (is.numeric(options$message)) TRUE else options$message, \n .     stop_on_error = if (is.numeric(options$error)) options$error else {\n .         if (options$error && options$include) \n .             0L\n .         else 2L\n .     }, output_handler = knit_handlers(options$render, options)))",
            "10. in_dir(input_dir(), expr)",
            "11. evaluate(code, envir = env, new_device = FALSE, keep_warning = if (is.numeric(options$warning)) TRUE else options$warning, \n  .     keep_message = if (is.numeric(options$message)) TRUE else options$message, \n  .     stop_on_error = if (is.numeric(options$error)) options$error else {\n  .         if (options$error && options$include) \n  .             0L\n  .         else 2L\n  .     }, output_handler = knit_handlers(options$render, options))",
            "12. evaluate::evaluate(...)",
            "13. withRestarts(with_handlers({\n  .     for (expr in tle$exprs) {\n  .         ev <- withVisible(eval(expr, envir))\n  .         watcher$capture_plot_and_output()\n  .         watcher$print_value(ev$value, ev$visible, envir)\n  .     }\n  .     TRUE\n  . }, handlers), eval_continue = function() TRUE, eval_stop = function() FALSE)",
            "14. withRestartList(expr, restarts)",
            "15. withOneRestart(withRestartList(expr, restarts[-nr]), restarts[[nr]])",
            "16. doWithOneRestart(return(expr), restart)",
            "17. withRestartList(expr, restarts[-nr])",
            "18. withOneRestart(expr, restarts[[1L]])",
            "19. doWithOneRestart(return(expr), restart)",
            "20. with_handlers({\n  .     for (expr in tle$exprs) {\n  .         ev <- withVisible(eval(expr, envir))\n  .         watcher$capture_plot_and_output()\n  .         watcher$print_value(ev$value, ev$visible, envir)\n  .     }\n  .     TRUE\n  . }, handlers)",
            "21. eval(call)",
            "22. eval(call)",
            "23. withCallingHandlers(code, message = function (cnd) \n  . {\n  .     watcher$capture_plot_and_output()\n  .     if (on_message$capture) {\n  .         watcher$push(cnd)\n  .     }\n  .     if (on_message$silence) {\n  .         invokeRestart(\"muffleMessage\")\n  .     }\n  . }, warning = function (cnd) \n  . {\n  .     if (getOption(\"warn\") >= 2 || getOption(\"warn\") < 0) {\n  .         return()\n  .     }\n  .     watcher$capture_plot_and_output()\n  .     if (on_warning$capture) {\n  .         cnd <- sanitize_call(cnd)\n  .         watcher$push(cnd)\n  .     }\n  .     if (on_warning$silence) {\n  .         invokeRestart(\"muffleWarning\")\n  .     }\n  . }, error = function (cnd) \n  . {\n  .     watcher$capture_plot_and_output()\n  .     cnd <- sanitize_call(cnd)\n  .     watcher$push(cnd)\n  .     switch(on_error, continue = invokeRestart(\"eval_continue\"), \n  .         stop = invokeRestart(\"eval_stop\"), error = NULL)\n  . })",
            "24. withVisible(eval(expr, envir))",
            "25. eval(expr, envir)",
            "26. eval(expr, envir)",
            "27. df %>% select(Category, `Debit/Credit`) %>% filter(tolower(Category) == \n  .     \"allowance\")",
            "28. filter(., tolower(Category) == \"allowance\")",
            "29. select(., Category, `Debit/Credit`)",
            "30. .handleSimpleError(function (e) \n  . {\n  .     if (progress && is.function(pb$interrupt)) \n  .         pb$interrupt()\n  .     if (xfun::pkg_available(\"rlang\", \"1.0.0\")) {\n  .         if (is_R_CMD_build() || is_R_CMD_check()) {\n  .             cnd = tryCatch(rlang::entrace(e), error = identity)\n  .             error <<- format(cnd)\n  .         }\n  .         else {\n  .             rlang::entrace(e)\n  .         }\n  .     }\n  . }, \"no applicable method for 'select' applied to an object of class \\\"function\\\"\", \n  .     base::quote(UseMethod(\"select\")))",
            "31. h(simpleError(msg, call))",
            "32. rlang::entrace(e)",
            "33. cnd_signal(entraced)",
            "34. signal_abort(cnd)",
            "35. signalCondition(cnd)"
          ]
        },
        {
          "output_type": "stream",
          "name": "stdout",
          "text": [
            "9/28                   \n",
            "10/28 [unnamed-chunk-4] \n"
          ]
        },
        {
          "output_type": "error",
          "ename": "ERROR",
          "evalue": "\u001b[1m\u001b[33mError\u001b[39m in `UseMethod()`:\u001b[22m\n\u001b[33m!\u001b[39m no applicable method for 'select' applied to an object of class \"function\"\n",
          "traceback": [
            "\u001b[1m\u001b[33mError\u001b[39m in `UseMethod()`:\u001b[22m\n\u001b[33m!\u001b[39m no applicable method for 'select' applied to an object of class \"function\"\nTraceback:\n",
            "1. knitr::knit(knit_input, knit_output, envir = envir, quiet = quiet)",
            "2. process_file(text, output)",
            "3. xfun:::handle_error(withCallingHandlers(if (tangle) process_tangle(group) else process_group(group), \n .     error = function(e) {\n .         if (progress && is.function(pb$interrupt)) \n .             pb$interrupt()\n .         if (xfun::pkg_available(\"rlang\", \"1.0.0\")) {\n .             if (is_R_CMD_build() || is_R_CMD_check()) {\n .                 cnd = tryCatch(rlang::entrace(e), error = identity)\n .                 error <<- format(cnd)\n .             }\n .             else {\n .                 rlang::entrace(e)\n .             }\n .         }\n .     }), function(loc) {\n .     setwd(wd)\n .     write_utf8(res, output %n% stdout())\n .     paste0(\"\\nQuitting from \", loc, if (!is.null(error)) \n .         paste0(\"\\n\", rule(), error, \"\\n\", rule()))\n . }, if (labels[i] != \"\") sprintf(\" [%s]\", labels[i]), get_loc)",
            "4. withCallingHandlers(if (tangle) process_tangle(group) else process_group(group), \n .     error = function(e) {\n .         if (progress && is.function(pb$interrupt)) \n .             pb$interrupt()\n .         if (xfun::pkg_available(\"rlang\", \"1.0.0\")) {\n .             if (is_R_CMD_build() || is_R_CMD_check()) {\n .                 cnd = tryCatch(rlang::entrace(e), error = identity)\n .                 error <<- format(cnd)\n .             }\n .             else {\n .                 rlang::entrace(e)\n .             }\n .         }\n .     })",
            "5. process_group(group)",
            "6. call_block(x)",
            "7. block_exec(params)",
            "8. eng_r(options)",
            "9. in_input_dir(evaluate(code, envir = env, new_device = FALSE, \n .     keep_warning = if (is.numeric(options$warning)) TRUE else options$warning, \n .     keep_message = if (is.numeric(options$message)) TRUE else options$message, \n .     stop_on_error = if (is.numeric(options$error)) options$error else {\n .         if (options$error && options$include) \n .             0L\n .         else 2L\n .     }, output_handler = knit_handlers(options$render, options)))",
            "10. in_dir(input_dir(), expr)",
            "11. evaluate(code, envir = env, new_device = FALSE, keep_warning = if (is.numeric(options$warning)) TRUE else options$warning, \n  .     keep_message = if (is.numeric(options$message)) TRUE else options$message, \n  .     stop_on_error = if (is.numeric(options$error)) options$error else {\n  .         if (options$error && options$include) \n  .             0L\n  .         else 2L\n  .     }, output_handler = knit_handlers(options$render, options))",
            "12. evaluate::evaluate(...)",
            "13. withRestarts(with_handlers({\n  .     for (expr in tle$exprs) {\n  .         ev <- withVisible(eval(expr, envir))\n  .         watcher$capture_plot_and_output()\n  .         watcher$print_value(ev$value, ev$visible, envir)\n  .     }\n  .     TRUE\n  . }, handlers), eval_continue = function() TRUE, eval_stop = function() FALSE)",
            "14. withRestartList(expr, restarts)",
            "15. withOneRestart(withRestartList(expr, restarts[-nr]), restarts[[nr]])",
            "16. doWithOneRestart(return(expr), restart)",
            "17. withRestartList(expr, restarts[-nr])",
            "18. withOneRestart(expr, restarts[[1L]])",
            "19. doWithOneRestart(return(expr), restart)",
            "20. with_handlers({\n  .     for (expr in tle$exprs) {\n  .         ev <- withVisible(eval(expr, envir))\n  .         watcher$capture_plot_and_output()\n  .         watcher$print_value(ev$value, ev$visible, envir)\n  .     }\n  .     TRUE\n  . }, handlers)",
            "21. eval(call)",
            "22. eval(call)",
            "23. withCallingHandlers(code, message = function (cnd) \n  . {\n  .     watcher$capture_plot_and_output()\n  .     if (on_message$capture) {\n  .         watcher$push(cnd)\n  .     }\n  .     if (on_message$silence) {\n  .         invokeRestart(\"muffleMessage\")\n  .     }\n  . }, warning = function (cnd) \n  . {\n  .     if (getOption(\"warn\") >= 2 || getOption(\"warn\") < 0) {\n  .         return()\n  .     }\n  .     watcher$capture_plot_and_output()\n  .     if (on_warning$capture) {\n  .         cnd <- sanitize_call(cnd)\n  .         watcher$push(cnd)\n  .     }\n  .     if (on_warning$silence) {\n  .         invokeRestart(\"muffleWarning\")\n  .     }\n  . }, error = function (cnd) \n  . {\n  .     watcher$capture_plot_and_output()\n  .     cnd <- sanitize_call(cnd)\n  .     watcher$push(cnd)\n  .     switch(on_error, continue = invokeRestart(\"eval_continue\"), \n  .         stop = invokeRestart(\"eval_stop\"), error = NULL)\n  . })",
            "24. withVisible(eval(expr, envir))",
            "25. eval(expr, envir)",
            "26. eval(expr, envir)",
            "27. df %>% select(Category, `Income/Expense`, `Debit/Credit`) %>% \n  .     filter(tolower(Category) == \"other\") %>% filter(tolower(`Income/Expense`) == \n  .     \"income\")",
            "28. filter(., tolower(`Income/Expense`) == \"income\")",
            "29. filter(., tolower(Category) == \"other\")",
            "30. select(., Category, `Income/Expense`, `Debit/Credit`)",
            "31. .handleSimpleError(function (e) \n  . {\n  .     if (progress && is.function(pb$interrupt)) \n  .         pb$interrupt()\n  .     if (xfun::pkg_available(\"rlang\", \"1.0.0\")) {\n  .         if (is_R_CMD_build() || is_R_CMD_check()) {\n  .             cnd = tryCatch(rlang::entrace(e), error = identity)\n  .             error <<- format(cnd)\n  .         }\n  .         else {\n  .             rlang::entrace(e)\n  .         }\n  .     }\n  . }, \"no applicable method for 'select' applied to an object of class \\\"function\\\"\", \n  .     base::quote(UseMethod(\"select\")))",
            "32. h(simpleError(msg, call))",
            "33. rlang::entrace(e)",
            "34. cnd_signal(entraced)",
            "35. signal_abort(cnd)",
            "36. signalCondition(cnd)"
          ]
        },
        {
          "output_type": "stream",
          "name": "stdout",
          "text": [
            "11/28                   \n",
            "12/28 [unnamed-chunk-5] \n"
          ]
        },
        {
          "output_type": "error",
          "ename": "ERROR",
          "evalue": "\u001b[1m\u001b[33mError\u001b[39m in `UseMethod()`:\u001b[22m\n\u001b[33m!\u001b[39m no applicable method for 'select' applied to an object of class \"function\"\n",
          "traceback": [
            "\u001b[1m\u001b[33mError\u001b[39m in `UseMethod()`:\u001b[22m\n\u001b[33m!\u001b[39m no applicable method for 'select' applied to an object of class \"function\"\nTraceback:\n",
            "1. knitr::knit(knit_input, knit_output, envir = envir, quiet = quiet)",
            "2. process_file(text, output)",
            "3. xfun:::handle_error(withCallingHandlers(if (tangle) process_tangle(group) else process_group(group), \n .     error = function(e) {\n .         if (progress && is.function(pb$interrupt)) \n .             pb$interrupt()\n .         if (xfun::pkg_available(\"rlang\", \"1.0.0\")) {\n .             if (is_R_CMD_build() || is_R_CMD_check()) {\n .                 cnd = tryCatch(rlang::entrace(e), error = identity)\n .                 error <<- format(cnd)\n .             }\n .             else {\n .                 rlang::entrace(e)\n .             }\n .         }\n .     }), function(loc) {\n .     setwd(wd)\n .     write_utf8(res, output %n% stdout())\n .     paste0(\"\\nQuitting from \", loc, if (!is.null(error)) \n .         paste0(\"\\n\", rule(), error, \"\\n\", rule()))\n . }, if (labels[i] != \"\") sprintf(\" [%s]\", labels[i]), get_loc)",
            "4. withCallingHandlers(if (tangle) process_tangle(group) else process_group(group), \n .     error = function(e) {\n .         if (progress && is.function(pb$interrupt)) \n .             pb$interrupt()\n .         if (xfun::pkg_available(\"rlang\", \"1.0.0\")) {\n .             if (is_R_CMD_build() || is_R_CMD_check()) {\n .                 cnd = tryCatch(rlang::entrace(e), error = identity)\n .                 error <<- format(cnd)\n .             }\n .             else {\n .                 rlang::entrace(e)\n .             }\n .         }\n .     })",
            "5. process_group(group)",
            "6. call_block(x)",
            "7. block_exec(params)",
            "8. eng_r(options)",
            "9. in_input_dir(evaluate(code, envir = env, new_device = FALSE, \n .     keep_warning = if (is.numeric(options$warning)) TRUE else options$warning, \n .     keep_message = if (is.numeric(options$message)) TRUE else options$message, \n .     stop_on_error = if (is.numeric(options$error)) options$error else {\n .         if (options$error && options$include) \n .             0L\n .         else 2L\n .     }, output_handler = knit_handlers(options$render, options)))",
            "10. in_dir(input_dir(), expr)",
            "11. evaluate(code, envir = env, new_device = FALSE, keep_warning = if (is.numeric(options$warning)) TRUE else options$warning, \n  .     keep_message = if (is.numeric(options$message)) TRUE else options$message, \n  .     stop_on_error = if (is.numeric(options$error)) options$error else {\n  .         if (options$error && options$include) \n  .             0L\n  .         else 2L\n  .     }, output_handler = knit_handlers(options$render, options))",
            "12. evaluate::evaluate(...)",
            "13. withRestarts(with_handlers({\n  .     for (expr in tle$exprs) {\n  .         ev <- withVisible(eval(expr, envir))\n  .         watcher$capture_plot_and_output()\n  .         watcher$print_value(ev$value, ev$visible, envir)\n  .     }\n  .     TRUE\n  . }, handlers), eval_continue = function() TRUE, eval_stop = function() FALSE)",
            "14. withRestartList(expr, restarts)",
            "15. withOneRestart(withRestartList(expr, restarts[-nr]), restarts[[nr]])",
            "16. doWithOneRestart(return(expr), restart)",
            "17. withRestartList(expr, restarts[-nr])",
            "18. withOneRestart(expr, restarts[[1L]])",
            "19. doWithOneRestart(return(expr), restart)",
            "20. with_handlers({\n  .     for (expr in tle$exprs) {\n  .         ev <- withVisible(eval(expr, envir))\n  .         watcher$capture_plot_and_output()\n  .         watcher$print_value(ev$value, ev$visible, envir)\n  .     }\n  .     TRUE\n  . }, handlers)",
            "21. eval(call)",
            "22. eval(call)",
            "23. withCallingHandlers(code, message = function (cnd) \n  . {\n  .     watcher$capture_plot_and_output()\n  .     if (on_message$capture) {\n  .         watcher$push(cnd)\n  .     }\n  .     if (on_message$silence) {\n  .         invokeRestart(\"muffleMessage\")\n  .     }\n  . }, warning = function (cnd) \n  . {\n  .     if (getOption(\"warn\") >= 2 || getOption(\"warn\") < 0) {\n  .         return()\n  .     }\n  .     watcher$capture_plot_and_output()\n  .     if (on_warning$capture) {\n  .         cnd <- sanitize_call(cnd)\n  .         watcher$push(cnd)\n  .     }\n  .     if (on_warning$silence) {\n  .         invokeRestart(\"muffleWarning\")\n  .     }\n  . }, error = function (cnd) \n  . {\n  .     watcher$capture_plot_and_output()\n  .     cnd <- sanitize_call(cnd)\n  .     watcher$push(cnd)\n  .     switch(on_error, continue = invokeRestart(\"eval_continue\"), \n  .         stop = invokeRestart(\"eval_stop\"), error = NULL)\n  . })",
            "24. withVisible(eval(expr, envir))",
            "25. eval(expr, envir)",
            "26. eval(expr, envir)",
            "27. df %>% select(Category, `Income/Expense`, `Debit/Credit`) %>% \n  .     filter(tolower(`Income/Expense`) != \"income\")",
            "28. filter(., tolower(`Income/Expense`) != \"income\")",
            "29. select(., Category, `Income/Expense`, `Debit/Credit`)",
            "30. .handleSimpleError(function (e) \n  . {\n  .     if (progress && is.function(pb$interrupt)) \n  .         pb$interrupt()\n  .     if (xfun::pkg_available(\"rlang\", \"1.0.0\")) {\n  .         if (is_R_CMD_build() || is_R_CMD_check()) {\n  .             cnd = tryCatch(rlang::entrace(e), error = identity)\n  .             error <<- format(cnd)\n  .         }\n  .         else {\n  .             rlang::entrace(e)\n  .         }\n  .     }\n  . }, \"no applicable method for 'select' applied to an object of class \\\"function\\\"\", \n  .     base::quote(UseMethod(\"select\")))",
            "31. h(simpleError(msg, call))",
            "32. rlang::entrace(e)",
            "33. cnd_signal(entraced)",
            "34. signal_abort(cnd)",
            "35. signalCondition(cnd)"
          ]
        },
        {
          "output_type": "stream",
          "name": "stdout",
          "text": [
            "13/28                   \n",
            "14/28 [unnamed-chunk-6] \n"
          ]
        },
        {
          "output_type": "error",
          "ename": "ERROR",
          "evalue": "\u001b[1m\u001b[33mError\u001b[39m in `UseMethod()`:\u001b[22m\n\u001b[33m!\u001b[39m no applicable method for 'select' applied to an object of class \"function\"\n",
          "traceback": [
            "\u001b[1m\u001b[33mError\u001b[39m in `UseMethod()`:\u001b[22m\n\u001b[33m!\u001b[39m no applicable method for 'select' applied to an object of class \"function\"\nTraceback:\n",
            "1. knitr::knit(knit_input, knit_output, envir = envir, quiet = quiet)",
            "2. process_file(text, output)",
            "3. xfun:::handle_error(withCallingHandlers(if (tangle) process_tangle(group) else process_group(group), \n .     error = function(e) {\n .         if (progress && is.function(pb$interrupt)) \n .             pb$interrupt()\n .         if (xfun::pkg_available(\"rlang\", \"1.0.0\")) {\n .             if (is_R_CMD_build() || is_R_CMD_check()) {\n .                 cnd = tryCatch(rlang::entrace(e), error = identity)\n .                 error <<- format(cnd)\n .             }\n .             else {\n .                 rlang::entrace(e)\n .             }\n .         }\n .     }), function(loc) {\n .     setwd(wd)\n .     write_utf8(res, output %n% stdout())\n .     paste0(\"\\nQuitting from \", loc, if (!is.null(error)) \n .         paste0(\"\\n\", rule(), error, \"\\n\", rule()))\n . }, if (labels[i] != \"\") sprintf(\" [%s]\", labels[i]), get_loc)",
            "4. withCallingHandlers(if (tangle) process_tangle(group) else process_group(group), \n .     error = function(e) {\n .         if (progress && is.function(pb$interrupt)) \n .             pb$interrupt()\n .         if (xfun::pkg_available(\"rlang\", \"1.0.0\")) {\n .             if (is_R_CMD_build() || is_R_CMD_check()) {\n .                 cnd = tryCatch(rlang::entrace(e), error = identity)\n .                 error <<- format(cnd)\n .             }\n .             else {\n .                 rlang::entrace(e)\n .             }\n .         }\n .     })",
            "5. process_group(group)",
            "6. call_block(x)",
            "7. block_exec(params)",
            "8. eng_r(options)",
            "9. in_input_dir(evaluate(code, envir = env, new_device = FALSE, \n .     keep_warning = if (is.numeric(options$warning)) TRUE else options$warning, \n .     keep_message = if (is.numeric(options$message)) TRUE else options$message, \n .     stop_on_error = if (is.numeric(options$error)) options$error else {\n .         if (options$error && options$include) \n .             0L\n .         else 2L\n .     }, output_handler = knit_handlers(options$render, options)))",
            "10. in_dir(input_dir(), expr)",
            "11. evaluate(code, envir = env, new_device = FALSE, keep_warning = if (is.numeric(options$warning)) TRUE else options$warning, \n  .     keep_message = if (is.numeric(options$message)) TRUE else options$message, \n  .     stop_on_error = if (is.numeric(options$error)) options$error else {\n  .         if (options$error && options$include) \n  .             0L\n  .         else 2L\n  .     }, output_handler = knit_handlers(options$render, options))",
            "12. evaluate::evaluate(...)",
            "13. withRestarts(with_handlers({\n  .     for (expr in tle$exprs) {\n  .         ev <- withVisible(eval(expr, envir))\n  .         watcher$capture_plot_and_output()\n  .         watcher$print_value(ev$value, ev$visible, envir)\n  .     }\n  .     TRUE\n  . }, handlers), eval_continue = function() TRUE, eval_stop = function() FALSE)",
            "14. withRestartList(expr, restarts)",
            "15. withOneRestart(withRestartList(expr, restarts[-nr]), restarts[[nr]])",
            "16. doWithOneRestart(return(expr), restart)",
            "17. withRestartList(expr, restarts[-nr])",
            "18. withOneRestart(expr, restarts[[1L]])",
            "19. doWithOneRestart(return(expr), restart)",
            "20. with_handlers({\n  .     for (expr in tle$exprs) {\n  .         ev <- withVisible(eval(expr, envir))\n  .         watcher$capture_plot_and_output()\n  .         watcher$print_value(ev$value, ev$visible, envir)\n  .     }\n  .     TRUE\n  . }, handlers)",
            "21. eval(call)",
            "22. eval(call)",
            "23. withCallingHandlers(code, message = function (cnd) \n  . {\n  .     watcher$capture_plot_and_output()\n  .     if (on_message$capture) {\n  .         watcher$push(cnd)\n  .     }\n  .     if (on_message$silence) {\n  .         invokeRestart(\"muffleMessage\")\n  .     }\n  . }, warning = function (cnd) \n  . {\n  .     if (getOption(\"warn\") >= 2 || getOption(\"warn\") < 0) {\n  .         return()\n  .     }\n  .     watcher$capture_plot_and_output()\n  .     if (on_warning$capture) {\n  .         cnd <- sanitize_call(cnd)\n  .         watcher$push(cnd)\n  .     }\n  .     if (on_warning$silence) {\n  .         invokeRestart(\"muffleWarning\")\n  .     }\n  . }, error = function (cnd) \n  . {\n  .     watcher$capture_plot_and_output()\n  .     cnd <- sanitize_call(cnd)\n  .     watcher$push(cnd)\n  .     switch(on_error, continue = invokeRestart(\"eval_continue\"), \n  .         stop = invokeRestart(\"eval_stop\"), error = NULL)\n  . })",
            "24. withVisible(eval(expr, envir))",
            "25. eval(expr, envir)",
            "26. eval(expr, envir)",
            "27. df %>% select(Category, `Income/Expense`, `Debit/Credit`) %>% \n  .     filter(tolower(`Income/Expense`) != \"income\")",
            "28. filter(., tolower(`Income/Expense`) != \"income\")",
            "29. select(., Category, `Income/Expense`, `Debit/Credit`)",
            "30. .handleSimpleError(function (e) \n  . {\n  .     if (progress && is.function(pb$interrupt)) \n  .         pb$interrupt()\n  .     if (xfun::pkg_available(\"rlang\", \"1.0.0\")) {\n  .         if (is_R_CMD_build() || is_R_CMD_check()) {\n  .             cnd = tryCatch(rlang::entrace(e), error = identity)\n  .             error <<- format(cnd)\n  .         }\n  .         else {\n  .             rlang::entrace(e)\n  .         }\n  .     }\n  . }, \"no applicable method for 'select' applied to an object of class \\\"function\\\"\", \n  .     base::quote(UseMethod(\"select\")))",
            "31. h(simpleError(msg, call))",
            "32. rlang::entrace(e)",
            "33. cnd_signal(entraced)",
            "34. signal_abort(cnd)",
            "35. signalCondition(cnd)"
          ]
        },
        {
          "output_type": "stream",
          "name": "stdout",
          "text": [
            "15/28                   \n",
            "16/28 [unnamed-chunk-7] \n"
          ]
        },
        {
          "output_type": "error",
          "ename": "ERROR",
          "evalue": "\u001b[1m\u001b[33mError\u001b[39m in `UseMethod()`:\u001b[22m\n\u001b[33m!\u001b[39m no applicable method for 'select' applied to an object of class \"function\"\n",
          "traceback": [
            "\u001b[1m\u001b[33mError\u001b[39m in `UseMethod()`:\u001b[22m\n\u001b[33m!\u001b[39m no applicable method for 'select' applied to an object of class \"function\"\nTraceback:\n",
            "1. knitr::knit(knit_input, knit_output, envir = envir, quiet = quiet)",
            "2. process_file(text, output)",
            "3. xfun:::handle_error(withCallingHandlers(if (tangle) process_tangle(group) else process_group(group), \n .     error = function(e) {\n .         if (progress && is.function(pb$interrupt)) \n .             pb$interrupt()\n .         if (xfun::pkg_available(\"rlang\", \"1.0.0\")) {\n .             if (is_R_CMD_build() || is_R_CMD_check()) {\n .                 cnd = tryCatch(rlang::entrace(e), error = identity)\n .                 error <<- format(cnd)\n .             }\n .             else {\n .                 rlang::entrace(e)\n .             }\n .         }\n .     }), function(loc) {\n .     setwd(wd)\n .     write_utf8(res, output %n% stdout())\n .     paste0(\"\\nQuitting from \", loc, if (!is.null(error)) \n .         paste0(\"\\n\", rule(), error, \"\\n\", rule()))\n . }, if (labels[i] != \"\") sprintf(\" [%s]\", labels[i]), get_loc)",
            "4. withCallingHandlers(if (tangle) process_tangle(group) else process_group(group), \n .     error = function(e) {\n .         if (progress && is.function(pb$interrupt)) \n .             pb$interrupt()\n .         if (xfun::pkg_available(\"rlang\", \"1.0.0\")) {\n .             if (is_R_CMD_build() || is_R_CMD_check()) {\n .                 cnd = tryCatch(rlang::entrace(e), error = identity)\n .                 error <<- format(cnd)\n .             }\n .             else {\n .                 rlang::entrace(e)\n .             }\n .         }\n .     })",
            "5. process_group(group)",
            "6. call_block(x)",
            "7. block_exec(params)",
            "8. eng_r(options)",
            "9. in_input_dir(evaluate(code, envir = env, new_device = FALSE, \n .     keep_warning = if (is.numeric(options$warning)) TRUE else options$warning, \n .     keep_message = if (is.numeric(options$message)) TRUE else options$message, \n .     stop_on_error = if (is.numeric(options$error)) options$error else {\n .         if (options$error && options$include) \n .             0L\n .         else 2L\n .     }, output_handler = knit_handlers(options$render, options)))",
            "10. in_dir(input_dir(), expr)",
            "11. evaluate(code, envir = env, new_device = FALSE, keep_warning = if (is.numeric(options$warning)) TRUE else options$warning, \n  .     keep_message = if (is.numeric(options$message)) TRUE else options$message, \n  .     stop_on_error = if (is.numeric(options$error)) options$error else {\n  .         if (options$error && options$include) \n  .             0L\n  .         else 2L\n  .     }, output_handler = knit_handlers(options$render, options))",
            "12. evaluate::evaluate(...)",
            "13. withRestarts(with_handlers({\n  .     for (expr in tle$exprs) {\n  .         ev <- withVisible(eval(expr, envir))\n  .         watcher$capture_plot_and_output()\n  .         watcher$print_value(ev$value, ev$visible, envir)\n  .     }\n  .     TRUE\n  . }, handlers), eval_continue = function() TRUE, eval_stop = function() FALSE)",
            "14. withRestartList(expr, restarts)",
            "15. withOneRestart(withRestartList(expr, restarts[-nr]), restarts[[nr]])",
            "16. doWithOneRestart(return(expr), restart)",
            "17. withRestartList(expr, restarts[-nr])",
            "18. withOneRestart(expr, restarts[[1L]])",
            "19. doWithOneRestart(return(expr), restart)",
            "20. with_handlers({\n  .     for (expr in tle$exprs) {\n  .         ev <- withVisible(eval(expr, envir))\n  .         watcher$capture_plot_and_output()\n  .         watcher$print_value(ev$value, ev$visible, envir)\n  .     }\n  .     TRUE\n  . }, handlers)",
            "21. eval(call)",
            "22. eval(call)",
            "23. withCallingHandlers(code, message = function (cnd) \n  . {\n  .     watcher$capture_plot_and_output()\n  .     if (on_message$capture) {\n  .         watcher$push(cnd)\n  .     }\n  .     if (on_message$silence) {\n  .         invokeRestart(\"muffleMessage\")\n  .     }\n  . }, warning = function (cnd) \n  . {\n  .     if (getOption(\"warn\") >= 2 || getOption(\"warn\") < 0) {\n  .         return()\n  .     }\n  .     watcher$capture_plot_and_output()\n  .     if (on_warning$capture) {\n  .         cnd <- sanitize_call(cnd)\n  .         watcher$push(cnd)\n  .     }\n  .     if (on_warning$silence) {\n  .         invokeRestart(\"muffleWarning\")\n  .     }\n  . }, error = function (cnd) \n  . {\n  .     watcher$capture_plot_and_output()\n  .     cnd <- sanitize_call(cnd)\n  .     watcher$push(cnd)\n  .     switch(on_error, continue = invokeRestart(\"eval_continue\"), \n  .         stop = invokeRestart(\"eval_stop\"), error = NULL)\n  . })",
            "24. withVisible(eval(expr, envir))",
            "25. eval(expr, envir)",
            "26. eval(expr, envir)",
            "27. df %>% select(Category, `Income/Expense`, `Debit/Credit`) %>% \n  .     filter(tolower(`Income/Expense`) != \"income\")",
            "28. filter(., tolower(`Income/Expense`) != \"income\")",
            "29. select(., Category, `Income/Expense`, `Debit/Credit`)",
            "30. .handleSimpleError(function (e) \n  . {\n  .     if (progress && is.function(pb$interrupt)) \n  .         pb$interrupt()\n  .     if (xfun::pkg_available(\"rlang\", \"1.0.0\")) {\n  .         if (is_R_CMD_build() || is_R_CMD_check()) {\n  .             cnd = tryCatch(rlang::entrace(e), error = identity)\n  .             error <<- format(cnd)\n  .         }\n  .         else {\n  .             rlang::entrace(e)\n  .         }\n  .     }\n  . }, \"no applicable method for 'select' applied to an object of class \\\"function\\\"\", \n  .     base::quote(UseMethod(\"select\")))",
            "31. h(simpleError(msg, call))",
            "32. rlang::entrace(e)",
            "33. cnd_signal(entraced)",
            "34. signal_abort(cnd)",
            "35. signalCondition(cnd)"
          ]
        },
        {
          "output_type": "stream",
          "name": "stdout",
          "text": [
            "17/28                   \n",
            "18/28 [unnamed-chunk-8] \n"
          ]
        },
        {
          "output_type": "error",
          "ename": "ERROR",
          "evalue": "\u001b[1m\u001b[33mError\u001b[39m in `UseMethod()`:\u001b[22m\n\u001b[33m!\u001b[39m no applicable method for 'select' applied to an object of class \"function\"\n",
          "traceback": [
            "\u001b[1m\u001b[33mError\u001b[39m in `UseMethod()`:\u001b[22m\n\u001b[33m!\u001b[39m no applicable method for 'select' applied to an object of class \"function\"\nTraceback:\n",
            "1. knitr::knit(knit_input, knit_output, envir = envir, quiet = quiet)",
            "2. process_file(text, output)",
            "3. xfun:::handle_error(withCallingHandlers(if (tangle) process_tangle(group) else process_group(group), \n .     error = function(e) {\n .         if (progress && is.function(pb$interrupt)) \n .             pb$interrupt()\n .         if (xfun::pkg_available(\"rlang\", \"1.0.0\")) {\n .             if (is_R_CMD_build() || is_R_CMD_check()) {\n .                 cnd = tryCatch(rlang::entrace(e), error = identity)\n .                 error <<- format(cnd)\n .             }\n .             else {\n .                 rlang::entrace(e)\n .             }\n .         }\n .     }), function(loc) {\n .     setwd(wd)\n .     write_utf8(res, output %n% stdout())\n .     paste0(\"\\nQuitting from \", loc, if (!is.null(error)) \n .         paste0(\"\\n\", rule(), error, \"\\n\", rule()))\n . }, if (labels[i] != \"\") sprintf(\" [%s]\", labels[i]), get_loc)",
            "4. withCallingHandlers(if (tangle) process_tangle(group) else process_group(group), \n .     error = function(e) {\n .         if (progress && is.function(pb$interrupt)) \n .             pb$interrupt()\n .         if (xfun::pkg_available(\"rlang\", \"1.0.0\")) {\n .             if (is_R_CMD_build() || is_R_CMD_check()) {\n .                 cnd = tryCatch(rlang::entrace(e), error = identity)\n .                 error <<- format(cnd)\n .             }\n .             else {\n .                 rlang::entrace(e)\n .             }\n .         }\n .     })",
            "5. process_group(group)",
            "6. call_block(x)",
            "7. block_exec(params)",
            "8. eng_r(options)",
            "9. in_input_dir(evaluate(code, envir = env, new_device = FALSE, \n .     keep_warning = if (is.numeric(options$warning)) TRUE else options$warning, \n .     keep_message = if (is.numeric(options$message)) TRUE else options$message, \n .     stop_on_error = if (is.numeric(options$error)) options$error else {\n .         if (options$error && options$include) \n .             0L\n .         else 2L\n .     }, output_handler = knit_handlers(options$render, options)))",
            "10. in_dir(input_dir(), expr)",
            "11. evaluate(code, envir = env, new_device = FALSE, keep_warning = if (is.numeric(options$warning)) TRUE else options$warning, \n  .     keep_message = if (is.numeric(options$message)) TRUE else options$message, \n  .     stop_on_error = if (is.numeric(options$error)) options$error else {\n  .         if (options$error && options$include) \n  .             0L\n  .         else 2L\n  .     }, output_handler = knit_handlers(options$render, options))",
            "12. evaluate::evaluate(...)",
            "13. withRestarts(with_handlers({\n  .     for (expr in tle$exprs) {\n  .         ev <- withVisible(eval(expr, envir))\n  .         watcher$capture_plot_and_output()\n  .         watcher$print_value(ev$value, ev$visible, envir)\n  .     }\n  .     TRUE\n  . }, handlers), eval_continue = function() TRUE, eval_stop = function() FALSE)",
            "14. withRestartList(expr, restarts)",
            "15. withOneRestart(withRestartList(expr, restarts[-nr]), restarts[[nr]])",
            "16. doWithOneRestart(return(expr), restart)",
            "17. withRestartList(expr, restarts[-nr])",
            "18. withOneRestart(expr, restarts[[1L]])",
            "19. doWithOneRestart(return(expr), restart)",
            "20. with_handlers({\n  .     for (expr in tle$exprs) {\n  .         ev <- withVisible(eval(expr, envir))\n  .         watcher$capture_plot_and_output()\n  .         watcher$print_value(ev$value, ev$visible, envir)\n  .     }\n  .     TRUE\n  . }, handlers)",
            "21. eval(call)",
            "22. eval(call)",
            "23. withCallingHandlers(code, message = function (cnd) \n  . {\n  .     watcher$capture_plot_and_output()\n  .     if (on_message$capture) {\n  .         watcher$push(cnd)\n  .     }\n  .     if (on_message$silence) {\n  .         invokeRestart(\"muffleMessage\")\n  .     }\n  . }, warning = function (cnd) \n  . {\n  .     if (getOption(\"warn\") >= 2 || getOption(\"warn\") < 0) {\n  .         return()\n  .     }\n  .     watcher$capture_plot_and_output()\n  .     if (on_warning$capture) {\n  .         cnd <- sanitize_call(cnd)\n  .         watcher$push(cnd)\n  .     }\n  .     if (on_warning$silence) {\n  .         invokeRestart(\"muffleWarning\")\n  .     }\n  . }, error = function (cnd) \n  . {\n  .     watcher$capture_plot_and_output()\n  .     cnd <- sanitize_call(cnd)\n  .     watcher$push(cnd)\n  .     switch(on_error, continue = invokeRestart(\"eval_continue\"), \n  .         stop = invokeRestart(\"eval_stop\"), error = NULL)\n  . })",
            "24. withVisible(eval(expr, envir))",
            "25. eval(expr, envir)",
            "26. eval(expr, envir)",
            "27. df %>% select(`Date / Time`, Category, `Income/Expense`, `Debit/Credit`) %>% \n  .     mutate(`Date / Time` = mdy(`Date / Time`)) %>% filter(tolower(`Income/Expense`) != \n  .     \"income\")",
            "28. filter(., tolower(`Income/Expense`) != \"income\")",
            "29. mutate(., `Date / Time` = mdy(`Date / Time`))",
            "30. stopifnot(is.data.frame(.data) || is.list(.data) || is.environment(.data))",
            "31. is.data.frame(.data)",
            "32. select(., `Date / Time`, Category, `Income/Expense`, `Debit/Credit`)",
            "33. .handleSimpleError(function (e) \n  . {\n  .     if (progress && is.function(pb$interrupt)) \n  .         pb$interrupt()\n  .     if (xfun::pkg_available(\"rlang\", \"1.0.0\")) {\n  .         if (is_R_CMD_build() || is_R_CMD_check()) {\n  .             cnd = tryCatch(rlang::entrace(e), error = identity)\n  .             error <<- format(cnd)\n  .         }\n  .         else {\n  .             rlang::entrace(e)\n  .         }\n  .     }\n  . }, \"no applicable method for 'select' applied to an object of class \\\"function\\\"\", \n  .     base::quote(UseMethod(\"select\")))",
            "34. h(simpleError(msg, call))",
            "35. rlang::entrace(e)",
            "36. cnd_signal(entraced)",
            "37. signal_abort(cnd)",
            "38. signalCondition(cnd)"
          ]
        },
        {
          "output_type": "stream",
          "name": "stdout",
          "text": [
            "19/28                   \n",
            "20/28 [unnamed-chunk-9] \n"
          ]
        },
        {
          "output_type": "error",
          "ename": "ERROR",
          "evalue": "\u001b[1m\u001b[33mError\u001b[39m in `UseMethod()`:\u001b[22m\n\u001b[33m!\u001b[39m no applicable method for 'select' applied to an object of class \"function\"\n",
          "traceback": [
            "\u001b[1m\u001b[33mError\u001b[39m in `UseMethod()`:\u001b[22m\n\u001b[33m!\u001b[39m no applicable method for 'select' applied to an object of class \"function\"\nTraceback:\n",
            "1. knitr::knit(knit_input, knit_output, envir = envir, quiet = quiet)",
            "2. process_file(text, output)",
            "3. xfun:::handle_error(withCallingHandlers(if (tangle) process_tangle(group) else process_group(group), \n .     error = function(e) {\n .         if (progress && is.function(pb$interrupt)) \n .             pb$interrupt()\n .         if (xfun::pkg_available(\"rlang\", \"1.0.0\")) {\n .             if (is_R_CMD_build() || is_R_CMD_check()) {\n .                 cnd = tryCatch(rlang::entrace(e), error = identity)\n .                 error <<- format(cnd)\n .             }\n .             else {\n .                 rlang::entrace(e)\n .             }\n .         }\n .     }), function(loc) {\n .     setwd(wd)\n .     write_utf8(res, output %n% stdout())\n .     paste0(\"\\nQuitting from \", loc, if (!is.null(error)) \n .         paste0(\"\\n\", rule(), error, \"\\n\", rule()))\n . }, if (labels[i] != \"\") sprintf(\" [%s]\", labels[i]), get_loc)",
            "4. withCallingHandlers(if (tangle) process_tangle(group) else process_group(group), \n .     error = function(e) {\n .         if (progress && is.function(pb$interrupt)) \n .             pb$interrupt()\n .         if (xfun::pkg_available(\"rlang\", \"1.0.0\")) {\n .             if (is_R_CMD_build() || is_R_CMD_check()) {\n .                 cnd = tryCatch(rlang::entrace(e), error = identity)\n .                 error <<- format(cnd)\n .             }\n .             else {\n .                 rlang::entrace(e)\n .             }\n .         }\n .     })",
            "5. process_group(group)",
            "6. call_block(x)",
            "7. block_exec(params)",
            "8. eng_r(options)",
            "9. in_input_dir(evaluate(code, envir = env, new_device = FALSE, \n .     keep_warning = if (is.numeric(options$warning)) TRUE else options$warning, \n .     keep_message = if (is.numeric(options$message)) TRUE else options$message, \n .     stop_on_error = if (is.numeric(options$error)) options$error else {\n .         if (options$error && options$include) \n .             0L\n .         else 2L\n .     }, output_handler = knit_handlers(options$render, options)))",
            "10. in_dir(input_dir(), expr)",
            "11. evaluate(code, envir = env, new_device = FALSE, keep_warning = if (is.numeric(options$warning)) TRUE else options$warning, \n  .     keep_message = if (is.numeric(options$message)) TRUE else options$message, \n  .     stop_on_error = if (is.numeric(options$error)) options$error else {\n  .         if (options$error && options$include) \n  .             0L\n  .         else 2L\n  .     }, output_handler = knit_handlers(options$render, options))",
            "12. evaluate::evaluate(...)",
            "13. withRestarts(with_handlers({\n  .     for (expr in tle$exprs) {\n  .         ev <- withVisible(eval(expr, envir))\n  .         watcher$capture_plot_and_output()\n  .         watcher$print_value(ev$value, ev$visible, envir)\n  .     }\n  .     TRUE\n  . }, handlers), eval_continue = function() TRUE, eval_stop = function() FALSE)",
            "14. withRestartList(expr, restarts)",
            "15. withOneRestart(withRestartList(expr, restarts[-nr]), restarts[[nr]])",
            "16. doWithOneRestart(return(expr), restart)",
            "17. withRestartList(expr, restarts[-nr])",
            "18. withOneRestart(expr, restarts[[1L]])",
            "19. doWithOneRestart(return(expr), restart)",
            "20. with_handlers({\n  .     for (expr in tle$exprs) {\n  .         ev <- withVisible(eval(expr, envir))\n  .         watcher$capture_plot_and_output()\n  .         watcher$print_value(ev$value, ev$visible, envir)\n  .     }\n  .     TRUE\n  . }, handlers)",
            "21. eval(call)",
            "22. eval(call)",
            "23. withCallingHandlers(code, message = function (cnd) \n  . {\n  .     watcher$capture_plot_and_output()\n  .     if (on_message$capture) {\n  .         watcher$push(cnd)\n  .     }\n  .     if (on_message$silence) {\n  .         invokeRestart(\"muffleMessage\")\n  .     }\n  . }, warning = function (cnd) \n  . {\n  .     if (getOption(\"warn\") >= 2 || getOption(\"warn\") < 0) {\n  .         return()\n  .     }\n  .     watcher$capture_plot_and_output()\n  .     if (on_warning$capture) {\n  .         cnd <- sanitize_call(cnd)\n  .         watcher$push(cnd)\n  .     }\n  .     if (on_warning$silence) {\n  .         invokeRestart(\"muffleWarning\")\n  .     }\n  . }, error = function (cnd) \n  . {\n  .     watcher$capture_plot_and_output()\n  .     cnd <- sanitize_call(cnd)\n  .     watcher$push(cnd)\n  .     switch(on_error, continue = invokeRestart(\"eval_continue\"), \n  .         stop = invokeRestart(\"eval_stop\"), error = NULL)\n  . })",
            "24. withVisible(eval(expr, envir))",
            "25. eval(expr, envir)",
            "26. eval(expr, envir)",
            "27. df %>% select(`Date / Time`, Category, `Income/Expense`, `Debit/Credit`) %>% \n  .     mutate(`Date / Time` = mdy(`Date / Time`)) %>% filter(tolower(`Income/Expense`) != \n  .     \"income\")",
            "28. filter(., tolower(`Income/Expense`) != \"income\")",
            "29. mutate(., `Date / Time` = mdy(`Date / Time`))",
            "30. stopifnot(is.data.frame(.data) || is.list(.data) || is.environment(.data))",
            "31. is.data.frame(.data)",
            "32. select(., `Date / Time`, Category, `Income/Expense`, `Debit/Credit`)",
            "33. .handleSimpleError(function (e) \n  . {\n  .     if (progress && is.function(pb$interrupt)) \n  .         pb$interrupt()\n  .     if (xfun::pkg_available(\"rlang\", \"1.0.0\")) {\n  .         if (is_R_CMD_build() || is_R_CMD_check()) {\n  .             cnd = tryCatch(rlang::entrace(e), error = identity)\n  .             error <<- format(cnd)\n  .         }\n  .         else {\n  .             rlang::entrace(e)\n  .         }\n  .     }\n  . }, \"no applicable method for 'select' applied to an object of class \\\"function\\\"\", \n  .     base::quote(UseMethod(\"select\")))",
            "34. h(simpleError(msg, call))",
            "35. rlang::entrace(e)",
            "36. cnd_signal(entraced)",
            "37. signal_abort(cnd)",
            "38. signalCondition(cnd)"
          ]
        },
        {
          "output_type": "stream",
          "name": "stdout",
          "text": [
            "21/28                   \n",
            "22/28 [unnamed-chunk-10]\n"
          ]
        },
        {
          "output_type": "error",
          "ename": "ERROR",
          "evalue": "\u001b[1m\u001b[33mError\u001b[39m in `UseMethod()`:\u001b[22m\n\u001b[33m!\u001b[39m no applicable method for 'select' applied to an object of class \"function\"\n",
          "traceback": [
            "\u001b[1m\u001b[33mError\u001b[39m in `UseMethod()`:\u001b[22m\n\u001b[33m!\u001b[39m no applicable method for 'select' applied to an object of class \"function\"\nTraceback:\n",
            "1. knitr::knit(knit_input, knit_output, envir = envir, quiet = quiet)",
            "2. process_file(text, output)",
            "3. xfun:::handle_error(withCallingHandlers(if (tangle) process_tangle(group) else process_group(group), \n .     error = function(e) {\n .         if (progress && is.function(pb$interrupt)) \n .             pb$interrupt()\n .         if (xfun::pkg_available(\"rlang\", \"1.0.0\")) {\n .             if (is_R_CMD_build() || is_R_CMD_check()) {\n .                 cnd = tryCatch(rlang::entrace(e), error = identity)\n .                 error <<- format(cnd)\n .             }\n .             else {\n .                 rlang::entrace(e)\n .             }\n .         }\n .     }), function(loc) {\n .     setwd(wd)\n .     write_utf8(res, output %n% stdout())\n .     paste0(\"\\nQuitting from \", loc, if (!is.null(error)) \n .         paste0(\"\\n\", rule(), error, \"\\n\", rule()))\n . }, if (labels[i] != \"\") sprintf(\" [%s]\", labels[i]), get_loc)",
            "4. withCallingHandlers(if (tangle) process_tangle(group) else process_group(group), \n .     error = function(e) {\n .         if (progress && is.function(pb$interrupt)) \n .             pb$interrupt()\n .         if (xfun::pkg_available(\"rlang\", \"1.0.0\")) {\n .             if (is_R_CMD_build() || is_R_CMD_check()) {\n .                 cnd = tryCatch(rlang::entrace(e), error = identity)\n .                 error <<- format(cnd)\n .             }\n .             else {\n .                 rlang::entrace(e)\n .             }\n .         }\n .     })",
            "5. process_group(group)",
            "6. call_block(x)",
            "7. block_exec(params)",
            "8. eng_r(options)",
            "9. in_input_dir(evaluate(code, envir = env, new_device = FALSE, \n .     keep_warning = if (is.numeric(options$warning)) TRUE else options$warning, \n .     keep_message = if (is.numeric(options$message)) TRUE else options$message, \n .     stop_on_error = if (is.numeric(options$error)) options$error else {\n .         if (options$error && options$include) \n .             0L\n .         else 2L\n .     }, output_handler = knit_handlers(options$render, options)))",
            "10. in_dir(input_dir(), expr)",
            "11. evaluate(code, envir = env, new_device = FALSE, keep_warning = if (is.numeric(options$warning)) TRUE else options$warning, \n  .     keep_message = if (is.numeric(options$message)) TRUE else options$message, \n  .     stop_on_error = if (is.numeric(options$error)) options$error else {\n  .         if (options$error && options$include) \n  .             0L\n  .         else 2L\n  .     }, output_handler = knit_handlers(options$render, options))",
            "12. evaluate::evaluate(...)",
            "13. withRestarts(with_handlers({\n  .     for (expr in tle$exprs) {\n  .         ev <- withVisible(eval(expr, envir))\n  .         watcher$capture_plot_and_output()\n  .         watcher$print_value(ev$value, ev$visible, envir)\n  .     }\n  .     TRUE\n  . }, handlers), eval_continue = function() TRUE, eval_stop = function() FALSE)",
            "14. withRestartList(expr, restarts)",
            "15. withOneRestart(withRestartList(expr, restarts[-nr]), restarts[[nr]])",
            "16. doWithOneRestart(return(expr), restart)",
            "17. withRestartList(expr, restarts[-nr])",
            "18. withOneRestart(expr, restarts[[1L]])",
            "19. doWithOneRestart(return(expr), restart)",
            "20. with_handlers({\n  .     for (expr in tle$exprs) {\n  .         ev <- withVisible(eval(expr, envir))\n  .         watcher$capture_plot_and_output()\n  .         watcher$print_value(ev$value, ev$visible, envir)\n  .     }\n  .     TRUE\n  . }, handlers)",
            "21. eval(call)",
            "22. eval(call)",
            "23. withCallingHandlers(code, message = function (cnd) \n  . {\n  .     watcher$capture_plot_and_output()\n  .     if (on_message$capture) {\n  .         watcher$push(cnd)\n  .     }\n  .     if (on_message$silence) {\n  .         invokeRestart(\"muffleMessage\")\n  .     }\n  . }, warning = function (cnd) \n  . {\n  .     if (getOption(\"warn\") >= 2 || getOption(\"warn\") < 0) {\n  .         return()\n  .     }\n  .     watcher$capture_plot_and_output()\n  .     if (on_warning$capture) {\n  .         cnd <- sanitize_call(cnd)\n  .         watcher$push(cnd)\n  .     }\n  .     if (on_warning$silence) {\n  .         invokeRestart(\"muffleWarning\")\n  .     }\n  . }, error = function (cnd) \n  . {\n  .     watcher$capture_plot_and_output()\n  .     cnd <- sanitize_call(cnd)\n  .     watcher$push(cnd)\n  .     switch(on_error, continue = invokeRestart(\"eval_continue\"), \n  .         stop = invokeRestart(\"eval_stop\"), error = NULL)\n  . })",
            "24. withVisible(eval(expr, envir))",
            "25. eval(expr, envir)",
            "26. eval(expr, envir)",
            "27. df %>% select(`Date / Time`, Category, `Income/Expense`, `Debit/Credit`) %>% \n  .     mutate(`Date / Time` = mdy(`Date / Time`)) %>% filter(tolower(`Income/Expense`) != \n  .     \"income\")",
            "28. filter(., tolower(`Income/Expense`) != \"income\")",
            "29. mutate(., `Date / Time` = mdy(`Date / Time`))",
            "30. stopifnot(is.data.frame(.data) || is.list(.data) || is.environment(.data))",
            "31. is.data.frame(.data)",
            "32. select(., `Date / Time`, Category, `Income/Expense`, `Debit/Credit`)",
            "33. .handleSimpleError(function (e) \n  . {\n  .     if (progress && is.function(pb$interrupt)) \n  .         pb$interrupt()\n  .     if (xfun::pkg_available(\"rlang\", \"1.0.0\")) {\n  .         if (is_R_CMD_build() || is_R_CMD_check()) {\n  .             cnd = tryCatch(rlang::entrace(e), error = identity)\n  .             error <<- format(cnd)\n  .         }\n  .         else {\n  .             rlang::entrace(e)\n  .         }\n  .     }\n  . }, \"no applicable method for 'select' applied to an object of class \\\"function\\\"\", \n  .     base::quote(UseMethod(\"select\")))",
            "34. h(simpleError(msg, call))",
            "35. rlang::entrace(e)",
            "36. cnd_signal(entraced)",
            "37. signal_abort(cnd)",
            "38. signalCondition(cnd)"
          ]
        },
        {
          "output_type": "stream",
          "name": "stdout",
          "text": [
            "23/28                   \n",
            "24/28 [unnamed-chunk-11]\n"
          ]
        },
        {
          "output_type": "error",
          "ename": "ERROR",
          "evalue": "\u001b[1m\u001b[33mError\u001b[39m in `UseMethod()`:\u001b[22m\n\u001b[33m!\u001b[39m no applicable method for 'select' applied to an object of class \"function\"\n",
          "traceback": [
            "\u001b[1m\u001b[33mError\u001b[39m in `UseMethod()`:\u001b[22m\n\u001b[33m!\u001b[39m no applicable method for 'select' applied to an object of class \"function\"\nTraceback:\n",
            "1. knitr::knit(knit_input, knit_output, envir = envir, quiet = quiet)",
            "2. process_file(text, output)",
            "3. xfun:::handle_error(withCallingHandlers(if (tangle) process_tangle(group) else process_group(group), \n .     error = function(e) {\n .         if (progress && is.function(pb$interrupt)) \n .             pb$interrupt()\n .         if (xfun::pkg_available(\"rlang\", \"1.0.0\")) {\n .             if (is_R_CMD_build() || is_R_CMD_check()) {\n .                 cnd = tryCatch(rlang::entrace(e), error = identity)\n .                 error <<- format(cnd)\n .             }\n .             else {\n .                 rlang::entrace(e)\n .             }\n .         }\n .     }), function(loc) {\n .     setwd(wd)\n .     write_utf8(res, output %n% stdout())\n .     paste0(\"\\nQuitting from \", loc, if (!is.null(error)) \n .         paste0(\"\\n\", rule(), error, \"\\n\", rule()))\n . }, if (labels[i] != \"\") sprintf(\" [%s]\", labels[i]), get_loc)",
            "4. withCallingHandlers(if (tangle) process_tangle(group) else process_group(group), \n .     error = function(e) {\n .         if (progress && is.function(pb$interrupt)) \n .             pb$interrupt()\n .         if (xfun::pkg_available(\"rlang\", \"1.0.0\")) {\n .             if (is_R_CMD_build() || is_R_CMD_check()) {\n .                 cnd = tryCatch(rlang::entrace(e), error = identity)\n .                 error <<- format(cnd)\n .             }\n .             else {\n .                 rlang::entrace(e)\n .             }\n .         }\n .     })",
            "5. process_group(group)",
            "6. call_block(x)",
            "7. block_exec(params)",
            "8. eng_r(options)",
            "9. in_input_dir(evaluate(code, envir = env, new_device = FALSE, \n .     keep_warning = if (is.numeric(options$warning)) TRUE else options$warning, \n .     keep_message = if (is.numeric(options$message)) TRUE else options$message, \n .     stop_on_error = if (is.numeric(options$error)) options$error else {\n .         if (options$error && options$include) \n .             0L\n .         else 2L\n .     }, output_handler = knit_handlers(options$render, options)))",
            "10. in_dir(input_dir(), expr)",
            "11. evaluate(code, envir = env, new_device = FALSE, keep_warning = if (is.numeric(options$warning)) TRUE else options$warning, \n  .     keep_message = if (is.numeric(options$message)) TRUE else options$message, \n  .     stop_on_error = if (is.numeric(options$error)) options$error else {\n  .         if (options$error && options$include) \n  .             0L\n  .         else 2L\n  .     }, output_handler = knit_handlers(options$render, options))",
            "12. evaluate::evaluate(...)",
            "13. withRestarts(with_handlers({\n  .     for (expr in tle$exprs) {\n  .         ev <- withVisible(eval(expr, envir))\n  .         watcher$capture_plot_and_output()\n  .         watcher$print_value(ev$value, ev$visible, envir)\n  .     }\n  .     TRUE\n  . }, handlers), eval_continue = function() TRUE, eval_stop = function() FALSE)",
            "14. withRestartList(expr, restarts)",
            "15. withOneRestart(withRestartList(expr, restarts[-nr]), restarts[[nr]])",
            "16. doWithOneRestart(return(expr), restart)",
            "17. withRestartList(expr, restarts[-nr])",
            "18. withOneRestart(expr, restarts[[1L]])",
            "19. doWithOneRestart(return(expr), restart)",
            "20. with_handlers({\n  .     for (expr in tle$exprs) {\n  .         ev <- withVisible(eval(expr, envir))\n  .         watcher$capture_plot_and_output()\n  .         watcher$print_value(ev$value, ev$visible, envir)\n  .     }\n  .     TRUE\n  . }, handlers)",
            "21. eval(call)",
            "22. eval(call)",
            "23. withCallingHandlers(code, message = function (cnd) \n  . {\n  .     watcher$capture_plot_and_output()\n  .     if (on_message$capture) {\n  .         watcher$push(cnd)\n  .     }\n  .     if (on_message$silence) {\n  .         invokeRestart(\"muffleMessage\")\n  .     }\n  . }, warning = function (cnd) \n  . {\n  .     if (getOption(\"warn\") >= 2 || getOption(\"warn\") < 0) {\n  .         return()\n  .     }\n  .     watcher$capture_plot_and_output()\n  .     if (on_warning$capture) {\n  .         cnd <- sanitize_call(cnd)\n  .         watcher$push(cnd)\n  .     }\n  .     if (on_warning$silence) {\n  .         invokeRestart(\"muffleWarning\")\n  .     }\n  . }, error = function (cnd) \n  . {\n  .     watcher$capture_plot_and_output()\n  .     cnd <- sanitize_call(cnd)\n  .     watcher$push(cnd)\n  .     switch(on_error, continue = invokeRestart(\"eval_continue\"), \n  .         stop = invokeRestart(\"eval_stop\"), error = NULL)\n  . })",
            "24. withVisible(eval(expr, envir))",
            "25. eval(expr, envir)",
            "26. eval(expr, envir)",
            "27. df %>% select(`Date / Time`, Category, `Income/Expense`, `Debit/Credit`) %>% \n  .     mutate(`Date / Time` = mdy(`Date / Time`)) %>% filter(tolower(`Income/Expense`) != \n  .     \"income\")",
            "28. filter(., tolower(`Income/Expense`) != \"income\")",
            "29. mutate(., `Date / Time` = mdy(`Date / Time`))",
            "30. stopifnot(is.data.frame(.data) || is.list(.data) || is.environment(.data))",
            "31. is.data.frame(.data)",
            "32. select(., `Date / Time`, Category, `Income/Expense`, `Debit/Credit`)",
            "33. .handleSimpleError(function (e) \n  . {\n  .     if (progress && is.function(pb$interrupt)) \n  .         pb$interrupt()\n  .     if (xfun::pkg_available(\"rlang\", \"1.0.0\")) {\n  .         if (is_R_CMD_build() || is_R_CMD_check()) {\n  .             cnd = tryCatch(rlang::entrace(e), error = identity)\n  .             error <<- format(cnd)\n  .         }\n  .         else {\n  .             rlang::entrace(e)\n  .         }\n  .     }\n  . }, \"no applicable method for 'select' applied to an object of class \\\"function\\\"\", \n  .     base::quote(UseMethod(\"select\")))",
            "34. h(simpleError(msg, call))",
            "35. rlang::entrace(e)",
            "36. cnd_signal(entraced)",
            "37. signal_abort(cnd)",
            "38. signalCondition(cnd)"
          ]
        },
        {
          "output_type": "stream",
          "name": "stdout",
          "text": [
            "25/28                   \n",
            "26/28 [unnamed-chunk-12]\n"
          ]
        },
        {
          "output_type": "error",
          "ename": "ERROR",
          "evalue": "\u001b[1m\u001b[33mError\u001b[39m in `UseMethod()`:\u001b[22m\n\u001b[33m!\u001b[39m no applicable method for 'select' applied to an object of class \"function\"\n",
          "traceback": [
            "\u001b[1m\u001b[33mError\u001b[39m in `UseMethod()`:\u001b[22m\n\u001b[33m!\u001b[39m no applicable method for 'select' applied to an object of class \"function\"\nTraceback:\n",
            "1. knitr::knit(knit_input, knit_output, envir = envir, quiet = quiet)",
            "2. process_file(text, output)",
            "3. xfun:::handle_error(withCallingHandlers(if (tangle) process_tangle(group) else process_group(group), \n .     error = function(e) {\n .         if (progress && is.function(pb$interrupt)) \n .             pb$interrupt()\n .         if (xfun::pkg_available(\"rlang\", \"1.0.0\")) {\n .             if (is_R_CMD_build() || is_R_CMD_check()) {\n .                 cnd = tryCatch(rlang::entrace(e), error = identity)\n .                 error <<- format(cnd)\n .             }\n .             else {\n .                 rlang::entrace(e)\n .             }\n .         }\n .     }), function(loc) {\n .     setwd(wd)\n .     write_utf8(res, output %n% stdout())\n .     paste0(\"\\nQuitting from \", loc, if (!is.null(error)) \n .         paste0(\"\\n\", rule(), error, \"\\n\", rule()))\n . }, if (labels[i] != \"\") sprintf(\" [%s]\", labels[i]), get_loc)",
            "4. withCallingHandlers(if (tangle) process_tangle(group) else process_group(group), \n .     error = function(e) {\n .         if (progress && is.function(pb$interrupt)) \n .             pb$interrupt()\n .         if (xfun::pkg_available(\"rlang\", \"1.0.0\")) {\n .             if (is_R_CMD_build() || is_R_CMD_check()) {\n .                 cnd = tryCatch(rlang::entrace(e), error = identity)\n .                 error <<- format(cnd)\n .             }\n .             else {\n .                 rlang::entrace(e)\n .             }\n .         }\n .     })",
            "5. process_group(group)",
            "6. call_block(x)",
            "7. block_exec(params)",
            "8. eng_r(options)",
            "9. in_input_dir(evaluate(code, envir = env, new_device = FALSE, \n .     keep_warning = if (is.numeric(options$warning)) TRUE else options$warning, \n .     keep_message = if (is.numeric(options$message)) TRUE else options$message, \n .     stop_on_error = if (is.numeric(options$error)) options$error else {\n .         if (options$error && options$include) \n .             0L\n .         else 2L\n .     }, output_handler = knit_handlers(options$render, options)))",
            "10. in_dir(input_dir(), expr)",
            "11. evaluate(code, envir = env, new_device = FALSE, keep_warning = if (is.numeric(options$warning)) TRUE else options$warning, \n  .     keep_message = if (is.numeric(options$message)) TRUE else options$message, \n  .     stop_on_error = if (is.numeric(options$error)) options$error else {\n  .         if (options$error && options$include) \n  .             0L\n  .         else 2L\n  .     }, output_handler = knit_handlers(options$render, options))",
            "12. evaluate::evaluate(...)",
            "13. withRestarts(with_handlers({\n  .     for (expr in tle$exprs) {\n  .         ev <- withVisible(eval(expr, envir))\n  .         watcher$capture_plot_and_output()\n  .         watcher$print_value(ev$value, ev$visible, envir)\n  .     }\n  .     TRUE\n  . }, handlers), eval_continue = function() TRUE, eval_stop = function() FALSE)",
            "14. withRestartList(expr, restarts)",
            "15. withOneRestart(withRestartList(expr, restarts[-nr]), restarts[[nr]])",
            "16. doWithOneRestart(return(expr), restart)",
            "17. withRestartList(expr, restarts[-nr])",
            "18. withOneRestart(expr, restarts[[1L]])",
            "19. doWithOneRestart(return(expr), restart)",
            "20. with_handlers({\n  .     for (expr in tle$exprs) {\n  .         ev <- withVisible(eval(expr, envir))\n  .         watcher$capture_plot_and_output()\n  .         watcher$print_value(ev$value, ev$visible, envir)\n  .     }\n  .     TRUE\n  . }, handlers)",
            "21. eval(call)",
            "22. eval(call)",
            "23. withCallingHandlers(code, message = function (cnd) \n  . {\n  .     watcher$capture_plot_and_output()\n  .     if (on_message$capture) {\n  .         watcher$push(cnd)\n  .     }\n  .     if (on_message$silence) {\n  .         invokeRestart(\"muffleMessage\")\n  .     }\n  . }, warning = function (cnd) \n  . {\n  .     if (getOption(\"warn\") >= 2 || getOption(\"warn\") < 0) {\n  .         return()\n  .     }\n  .     watcher$capture_plot_and_output()\n  .     if (on_warning$capture) {\n  .         cnd <- sanitize_call(cnd)\n  .         watcher$push(cnd)\n  .     }\n  .     if (on_warning$silence) {\n  .         invokeRestart(\"muffleWarning\")\n  .     }\n  . }, error = function (cnd) \n  . {\n  .     watcher$capture_plot_and_output()\n  .     cnd <- sanitize_call(cnd)\n  .     watcher$push(cnd)\n  .     switch(on_error, continue = invokeRestart(\"eval_continue\"), \n  .         stop = invokeRestart(\"eval_stop\"), error = NULL)\n  . })",
            "24. withVisible(eval(expr, envir))",
            "25. eval(expr, envir)",
            "26. eval(expr, envir)",
            "27. df %>% select(`Date / Time`, Category, `Income/Expense`, `Debit/Credit`) %>% \n  .     mutate(`Date / Time` = mdy(`Date / Time`)) %>% filter(tolower(`Income/Expense`) != \n  .     \"income\")",
            "28. filter(., tolower(`Income/Expense`) != \"income\")",
            "29. mutate(., `Date / Time` = mdy(`Date / Time`))",
            "30. stopifnot(is.data.frame(.data) || is.list(.data) || is.environment(.data))",
            "31. is.data.frame(.data)",
            "32. select(., `Date / Time`, Category, `Income/Expense`, `Debit/Credit`)",
            "33. .handleSimpleError(function (e) \n  . {\n  .     if (progress && is.function(pb$interrupt)) \n  .         pb$interrupt()\n  .     if (xfun::pkg_available(\"rlang\", \"1.0.0\")) {\n  .         if (is_R_CMD_build() || is_R_CMD_check()) {\n  .             cnd = tryCatch(rlang::entrace(e), error = identity)\n  .             error <<- format(cnd)\n  .         }\n  .         else {\n  .             rlang::entrace(e)\n  .         }\n  .     }\n  . }, \"no applicable method for 'select' applied to an object of class \\\"function\\\"\", \n  .     base::quote(UseMethod(\"select\")))",
            "34. h(simpleError(msg, call))",
            "35. rlang::entrace(e)",
            "36. cnd_signal(entraced)",
            "37. signal_abort(cnd)",
            "38. signalCondition(cnd)"
          ]
        },
        {
          "output_type": "stream",
          "name": "stdout",
          "text": [
            "27/28                   \n",
            "28/28 [unnamed-chunk-13]\n"
          ]
        },
        {
          "output_type": "error",
          "ename": "ERROR",
          "evalue": "\u001b[1m\u001b[33mError\u001b[39m in `datatable()`:\u001b[22m\n\u001b[33m!\u001b[39m 'data' must be 2-dimensional (e.g. data frame or matrix)\n",
          "traceback": [
            "\u001b[1m\u001b[33mError\u001b[39m in `datatable()`:\u001b[22m\n\u001b[33m!\u001b[39m 'data' must be 2-dimensional (e.g. data frame or matrix)\nTraceback:\n",
            "1. knitr::knit(knit_input, knit_output, envir = envir, quiet = quiet)",
            "2. process_file(text, output)",
            "3. xfun:::handle_error(withCallingHandlers(if (tangle) process_tangle(group) else process_group(group), \n .     error = function(e) {\n .         if (progress && is.function(pb$interrupt)) \n .             pb$interrupt()\n .         if (xfun::pkg_available(\"rlang\", \"1.0.0\")) {\n .             if (is_R_CMD_build() || is_R_CMD_check()) {\n .                 cnd = tryCatch(rlang::entrace(e), error = identity)\n .                 error <<- format(cnd)\n .             }\n .             else {\n .                 rlang::entrace(e)\n .             }\n .         }\n .     }), function(loc) {\n .     setwd(wd)\n .     write_utf8(res, output %n% stdout())\n .     paste0(\"\\nQuitting from \", loc, if (!is.null(error)) \n .         paste0(\"\\n\", rule(), error, \"\\n\", rule()))\n . }, if (labels[i] != \"\") sprintf(\" [%s]\", labels[i]), get_loc)",
            "4. withCallingHandlers(if (tangle) process_tangle(group) else process_group(group), \n .     error = function(e) {\n .         if (progress && is.function(pb$interrupt)) \n .             pb$interrupt()\n .         if (xfun::pkg_available(\"rlang\", \"1.0.0\")) {\n .             if (is_R_CMD_build() || is_R_CMD_check()) {\n .                 cnd = tryCatch(rlang::entrace(e), error = identity)\n .                 error <<- format(cnd)\n .             }\n .             else {\n .                 rlang::entrace(e)\n .             }\n .         }\n .     })",
            "5. process_group(group)",
            "6. call_block(x)",
            "7. block_exec(params)",
            "8. eng_r(options)",
            "9. in_input_dir(evaluate(code, envir = env, new_device = FALSE, \n .     keep_warning = if (is.numeric(options$warning)) TRUE else options$warning, \n .     keep_message = if (is.numeric(options$message)) TRUE else options$message, \n .     stop_on_error = if (is.numeric(options$error)) options$error else {\n .         if (options$error && options$include) \n .             0L\n .         else 2L\n .     }, output_handler = knit_handlers(options$render, options)))",
            "10. in_dir(input_dir(), expr)",
            "11. evaluate(code, envir = env, new_device = FALSE, keep_warning = if (is.numeric(options$warning)) TRUE else options$warning, \n  .     keep_message = if (is.numeric(options$message)) TRUE else options$message, \n  .     stop_on_error = if (is.numeric(options$error)) options$error else {\n  .         if (options$error && options$include) \n  .             0L\n  .         else 2L\n  .     }, output_handler = knit_handlers(options$render, options))",
            "12. evaluate::evaluate(...)",
            "13. withRestarts(with_handlers({\n  .     for (expr in tle$exprs) {\n  .         ev <- withVisible(eval(expr, envir))\n  .         watcher$capture_plot_and_output()\n  .         watcher$print_value(ev$value, ev$visible, envir)\n  .     }\n  .     TRUE\n  . }, handlers), eval_continue = function() TRUE, eval_stop = function() FALSE)",
            "14. withRestartList(expr, restarts)",
            "15. withOneRestart(withRestartList(expr, restarts[-nr]), restarts[[nr]])",
            "16. doWithOneRestart(return(expr), restart)",
            "17. withRestartList(expr, restarts[-nr])",
            "18. withOneRestart(expr, restarts[[1L]])",
            "19. doWithOneRestart(return(expr), restart)",
            "20. with_handlers({\n  .     for (expr in tle$exprs) {\n  .         ev <- withVisible(eval(expr, envir))\n  .         watcher$capture_plot_and_output()\n  .         watcher$print_value(ev$value, ev$visible, envir)\n  .     }\n  .     TRUE\n  . }, handlers)",
            "21. eval(call)",
            "22. eval(call)",
            "23. withCallingHandlers(code, message = function (cnd) \n  . {\n  .     watcher$capture_plot_and_output()\n  .     if (on_message$capture) {\n  .         watcher$push(cnd)\n  .     }\n  .     if (on_message$silence) {\n  .         invokeRestart(\"muffleMessage\")\n  .     }\n  . }, warning = function (cnd) \n  . {\n  .     if (getOption(\"warn\") >= 2 || getOption(\"warn\") < 0) {\n  .         return()\n  .     }\n  .     watcher$capture_plot_and_output()\n  .     if (on_warning$capture) {\n  .         cnd <- sanitize_call(cnd)\n  .         watcher$push(cnd)\n  .     }\n  .     if (on_warning$silence) {\n  .         invokeRestart(\"muffleWarning\")\n  .     }\n  . }, error = function (cnd) \n  . {\n  .     watcher$capture_plot_and_output()\n  .     cnd <- sanitize_call(cnd)\n  .     watcher$push(cnd)\n  .     switch(on_error, continue = invokeRestart(\"eval_continue\"), \n  .         stop = invokeRestart(\"eval_stop\"), error = NULL)\n  . })",
            "24. withVisible(eval(expr, envir))",
            "25. eval(expr, envir)",
            "26. eval(expr, envir)",
            "27. datatable(df, caption = \"Personal Finance Data\", rownames = T, \n  .     filter = \"top\", options = list(pageLength = 25))",
            "28. stop(\"'data' must be 2-dimensional (e.g. data frame or matrix)\")",
            "29. .handleSimpleError(function (e) \n  . {\n  .     if (progress && is.function(pb$interrupt)) \n  .         pb$interrupt()\n  .     if (xfun::pkg_available(\"rlang\", \"1.0.0\")) {\n  .         if (is_R_CMD_build() || is_R_CMD_check()) {\n  .             cnd = tryCatch(rlang::entrace(e), error = identity)\n  .             error <<- format(cnd)\n  .         }\n  .         else {\n  .             rlang::entrace(e)\n  .         }\n  .     }\n  . }, \"'data' must be 2-dimensional (e.g. data frame or matrix)\", \n  .     base::quote(datatable(df, caption = \"Personal Finance Data\", \n  .         rownames = T, filter = \"top\", options = list(pageLength = 25))))",
            "30. h(simpleError(msg, call))",
            "31. rlang::entrace(e)",
            "32. cnd_signal(entraced)",
            "33. signal_abort(cnd)",
            "34. signalCondition(cnd)"
          ]
        },
        {
          "output_type": "stream",
          "name": "stderr",
          "text": [
            "output file: dashboard.knit.md\n",
            "\n",
            "\n"
          ]
        },
        {
          "output_type": "stream",
          "name": "stdout",
          "text": [
            "/usr/bin/pandoc +RTS -K512m -RTS dashboard.knit.md --to html4 --from markdown+autolink_bare_uris+tex_math_single_backslash --output Dashboard.html --lua-filter /usr/local/lib/R/site-library/rmarkdown/rmarkdown/lua/pagebreak.lua --lua-filter /usr/local/lib/R/site-library/rmarkdown/rmarkdown/lua/latex-div.lua --self-contained --variable bs3=TRUE --standalone --section-divs --template /usr/local/lib/R/site-library/flexdashboard/www/flex_dashboard/default.html --include-in-header /tmp/RtmpQJPKUb/rmarkdown-str15e19e6d42.html --variable theme=cosmo --mathjax --variable 'mathjax-url=https://mathjax.rstudio.com/latest/MathJax.js?config=TeX-AMS-MML_HTMLorMML' --include-in-header /tmp/RtmpQJPKUb/rmarkdown-str15e6720377b.html --highlight-style pygments --include-in-header /tmp/RtmpQJPKUb/file15e314c10fbhtml --include-before-body /tmp/RtmpQJPKUb/file15e552f3f2d.html --include-after-body /tmp/RtmpQJPKUb/file15e27bc3f5d.html \n"
          ]
        },
        {
          "output_type": "stream",
          "name": "stderr",
          "text": [
            "\n",
            "Output created: Dashboard.html\n",
            "\n"
          ]
        }
      ]
    },
    {
      "cell_type": "code",
      "source": [],
      "metadata": {
        "id": "j970tbrdumU0"
      },
      "execution_count": null,
      "outputs": []
    }
  ]
}